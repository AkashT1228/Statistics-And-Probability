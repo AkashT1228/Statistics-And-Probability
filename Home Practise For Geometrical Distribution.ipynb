{
 "cells": [
  {
   "cell_type": "code",
   "execution_count": 1,
   "id": "66cf299a",
   "metadata": {},
   "outputs": [],
   "source": [
    "from scipy.stats import binom,poisson,nbinom,norm\n",
    "import matplotlib.pyplot as plt\n",
    "import pandas as pd\n",
    "import numpy as np"
   ]
  },
  {
   "cell_type": "markdown",
   "id": "34de8bf4",
   "metadata": {},
   "source": [
    "### Suppose you are playing a game of darts. The probability of success is 0.4. What is the probability that you will hit the bulls eye on the 3rd try?"
   ]
  },
  {
   "cell_type": "code",
   "execution_count": 5,
   "id": "1444f8b2",
   "metadata": {},
   "outputs": [
    {
     "data": {
      "text/plain": [
       "0.13824000000000003"
      ]
     },
     "execution_count": 5,
     "metadata": {},
     "output_type": "execute_result"
    }
   ],
   "source": [
    "nbinom.pmf(k=2, n=3, p=0.4)"
   ]
  },
  {
   "cell_type": "markdown",
   "id": "08531f8e",
   "metadata": {},
   "source": [
    "### A light bulb manufacturing factory finds 3 in every 60 light bulbs defective. What is the probability that the first defective light bulb with be found when the 6th one is tested?"
   ]
  },
  {
   "cell_type": "code",
   "execution_count": 17,
   "id": "b56d8dc0",
   "metadata": {},
   "outputs": [
    {
     "data": {
      "text/plain": [
       "0.038689046874999994"
      ]
     },
     "execution_count": 17,
     "metadata": {},
     "output_type": "execute_result"
    }
   ],
   "source": [
    "nbinom.pmf(k=5 , n=1 , p=0.05)"
   ]
  },
  {
   "cell_type": "markdown",
   "id": "ccece7c5",
   "metadata": {},
   "source": [
    "### Suppose Max owns a lightbulb manufacturing company and determines 3 out of every 75 bulbs are defective.what is the probability that max will find the first faulty lightbulb on the 6th one that he tested?"
   ]
  },
  {
   "cell_type": "code",
   "execution_count": 12,
   "id": "688f34c1",
   "metadata": {},
   "outputs": [
    {
     "data": {
      "text/plain": [
       "0.032614907904"
      ]
     },
     "execution_count": 12,
     "metadata": {},
     "output_type": "execute_result"
    }
   ],
   "source": [
    "nbinom.pmf(k=5 , n=1 , p=0.04)"
   ]
  },
  {
   "cell_type": "markdown",
   "id": "281df71e",
   "metadata": {},
   "source": [
    "### In a class there are 35% students  doing their homework regularly.if from this class students are selected randomly,what is the probability that the 5th student’s homework is the 1st that has completed their homework?"
   ]
  },
  {
   "cell_type": "code",
   "execution_count": 16,
   "id": "c5a6bde3",
   "metadata": {},
   "outputs": [
    {
     "data": {
      "text/plain": [
       "0.0624771875"
      ]
     },
     "execution_count": 16,
     "metadata": {},
     "output_type": "execute_result"
    }
   ],
   "source": [
    "nbinom.pmf(k=4, n=1, p=0.35)"
   ]
  },
  {
   "cell_type": "markdown",
   "id": "8ac3d167",
   "metadata": {},
   "source": [
    "### Suppose it’s known that 4% of individuals who visit a certain bank are visiting to file bankruptcy. Suppose a banker wants to know the probability that he will meet with less than 10 people before encountering someone who is filing for bankruptcy."
   ]
  },
  {
   "cell_type": "code",
   "execution_count": 30,
   "id": "771974c4",
   "metadata": {},
   "outputs": [
    {
     "data": {
      "text/plain": [
       "0.02659330543966003"
      ]
     },
     "execution_count": 30,
     "metadata": {},
     "output_type": "execute_result"
    }
   ],
   "source": [
    "nbinom.pmf(k=10, n=1, p=0.04)"
   ]
  },
  {
   "cell_type": "markdown",
   "id": "382c9e12",
   "metadata": {},
   "source": [
    "### Suppose a dice is repeatedly rolled until \"3\" is obtained. Then the probability of getting \"3\" is p = 1 / 6 and the random variable, X, can take on a value of 1, 2, 3, ...., until the first success is obtained. This is an example of a geometric distribution with p = 1 / 6."
   ]
  },
  {
   "cell_type": "code",
   "execution_count": 32,
   "id": "df123ecc",
   "metadata": {},
   "outputs": [
    {
     "data": {
      "text/plain": [
       "0.05193990143999999"
      ]
     },
     "execution_count": 32,
     "metadata": {},
     "output_type": "execute_result"
    }
   ],
   "source": [
    "nbinom.pmf(k=1, n=3, p=0.16)+nbinom.pmf(k=2, n=3, p=0.16)+nbinom.pmf(k=3, n=3, p=0.16)"
   ]
  },
  {
   "cell_type": "markdown",
   "id": "342b8830",
   "metadata": {},
   "source": [
    "###  If a patient is waiting for a suitable blood donor and the probability that the                  selected donor will be a match is 0.2, then find the expected number of donors who will be tested till a match is found including the matched donor."
   ]
  },
  {
   "cell_type": "code",
   "execution_count": null,
   "id": "0c5d84b3",
   "metadata": {},
   "outputs": [],
   "source": [
    "nbinom.pmf(k=, n=, p=0.2)"
   ]
  },
  {
   "cell_type": "markdown",
   "id": "04df54cb",
   "metadata": {},
   "source": [
    "### If your probability of success is 0.2, what is the probability you meet an independent voter on your third try?  Inserting 0.2 as p and with X = 3, the probability density function becomes:\n"
   ]
  },
  {
   "cell_type": "code",
   "execution_count": 40,
   "id": "61d6c32b",
   "metadata": {},
   "outputs": [
    {
     "data": {
      "text/plain": [
       "0.03071999999999998"
      ]
     },
     "execution_count": 40,
     "metadata": {},
     "output_type": "execute_result"
    }
   ],
   "source": [
    "nbinom.pmf(k=2, n=3, p=0.2)"
   ]
  },
  {
   "cell_type": "markdown",
   "id": "3e5efe80",
   "metadata": {},
   "source": [
    "###  Matthew is a high school basketball player and a 75% free throw shooter. Calculate what will be the probability that Matthew makes his first free throw on his fifth shot?\n"
   ]
  },
  {
   "cell_type": "code",
   "execution_count": 41,
   "id": "0727acdf",
   "metadata": {},
   "outputs": [
    {
     "data": {
      "text/plain": [
       "0.0029296875000000004"
      ]
     },
     "execution_count": 41,
     "metadata": {},
     "output_type": "execute_result"
    }
   ],
   "source": [
    "nbinom.pmf(k=4,n=1,p=0.75)"
   ]
  },
  {
   "cell_type": "markdown",
   "id": "26870b3b",
   "metadata": {},
   "source": [
    "### You play a game of chance that you can either win or lose (there are no other possibilities) until you lose. Your probability of losing is p = 0.57\n",
    "What is the probability that it takes five games until you lose?\n",
    "\n"
   ]
  },
  {
   "cell_type": "code",
   "execution_count": 46,
   "id": "ce9710c2",
   "metadata": {},
   "outputs": [
    {
     "data": {
      "text/plain": [
       "0.0779486628"
      ]
     },
     "execution_count": 46,
     "metadata": {},
     "output_type": "execute_result"
    }
   ],
   "source": [
    "nbinom.pmf(k=1, n=4, p=0.43)"
   ]
  },
  {
   "cell_type": "code",
   "execution_count": null,
   "id": "55ef7c3e",
   "metadata": {},
   "outputs": [],
   "source": []
  },
  {
   "cell_type": "code",
   "execution_count": null,
   "id": "1bba4dd4",
   "metadata": {},
   "outputs": [],
   "source": []
  }
 ],
 "metadata": {
  "kernelspec": {
   "display_name": "Python 3 (ipykernel)",
   "language": "python",
   "name": "python3"
  },
  "language_info": {
   "codemirror_mode": {
    "name": "ipython",
    "version": 3
   },
   "file_extension": ".py",
   "mimetype": "text/x-python",
   "name": "python",
   "nbconvert_exporter": "python",
   "pygments_lexer": "ipython3",
   "version": "3.9.12"
  }
 },
 "nbformat": 4,
 "nbformat_minor": 5
}
