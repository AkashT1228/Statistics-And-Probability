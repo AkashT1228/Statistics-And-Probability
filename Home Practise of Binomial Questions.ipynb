{
 "cells": [
  {
   "cell_type": "code",
   "execution_count": 2,
   "id": "278f069a",
   "metadata": {},
   "outputs": [],
   "source": [
    "from scipy.stats import binom,poisson,nbinom,norm\n",
    "import matplotlib.pyplot as plt\n",
    "import pandas as pd\n",
    "import numpy as np"
   ]
  },
  {
   "cell_type": "markdown",
   "id": "6c3596fb",
   "metadata": {},
   "source": [
    "# Home Practise Of Binomial Questions"
   ]
  },
  {
   "cell_type": "markdown",
   "id": "b9d0c669",
   "metadata": {},
   "source": [
    "### If from six to seven in the evening one telephone line in every five is engaged in a conversation: what is the probability that when 10 telephone numbers are chosen at random, only two are in use?"
   ]
  },
  {
   "cell_type": "code",
   "execution_count": 3,
   "id": "38627fa9",
   "metadata": {},
   "outputs": [
    {
     "data": {
      "text/plain": [
       "0.30198988800000004"
      ]
     },
     "execution_count": 3,
     "metadata": {},
     "output_type": "execute_result"
    }
   ],
   "source": [
    "binom.pmf(2,10,0.2)   # (x,n,p)"
   ]
  },
  {
   "cell_type": "markdown",
   "id": "c79f3201",
   "metadata": {},
   "source": [
    "### In the old days, there was a probability of 0.8 of success in any attempt to make a telephone call. (This often depended on the importance of the person making the call, or the operator's curiosity!) Calculate the probability of having 7 successes in 10 attempts."
   ]
  },
  {
   "cell_type": "code",
   "execution_count": 4,
   "id": "da1e0b5d",
   "metadata": {},
   "outputs": [
    {
     "data": {
      "text/plain": [
       "0.20132659199999978"
      ]
     },
     "execution_count": 4,
     "metadata": {},
     "output_type": "execute_result"
    }
   ],
   "source": [
    "binom.pmf(7,10,0.8)"
   ]
  },
  {
   "cell_type": "markdown",
   "id": "ae1be74b",
   "metadata": {},
   "source": [
    "### A box of candies has many different colors in it.There is a 15% chance of getting a pink candy . what is the probability that exactly 4 candies in a box are pink out of 10?"
   ]
  },
  {
   "cell_type": "code",
   "execution_count": 6,
   "id": "7f1ab46c",
   "metadata": {},
   "outputs": [
    {
     "data": {
      "text/plain": [
       "0.04009570787988276"
      ]
     },
     "execution_count": 6,
     "metadata": {},
     "output_type": "execute_result"
    }
   ],
   "source": [
    "binom.pmf(4,10,0.15)"
   ]
  },
  {
   "cell_type": "markdown",
   "id": "474f2850",
   "metadata": {},
   "source": [
    "### A biased coin is tossed 6 times. The Probability of heads on any toss is 0.3. Let X denote the number of heads that come up.\n",
    "Calculate:\n",
    "a) P(X = 2)\n",
    "b) P(X = 3)\n",
    "c) P(1<X<=5).\n"
   ]
  },
  {
   "cell_type": "code",
   "execution_count": 10,
   "id": "376be1de",
   "metadata": {},
   "outputs": [
    {
     "data": {
      "text/plain": [
       "0.5790959999999998"
      ]
     },
     "execution_count": 10,
     "metadata": {},
     "output_type": "execute_result"
    }
   ],
   "source": [
    "binom.pmf(2,6,0.3)+binom.pmf(3,6,0.3)+binom.pmf(4,6,0.3)+binom.pmf(5,6,0.3)"
   ]
  },
  {
   "cell_type": "markdown",
   "id": "df500a21",
   "metadata": {},
   "source": [
    "### The probability that a person can achieve a target is 3/4. The count of tries is 5. What is the probability that he will attain the target at least thrice?"
   ]
  },
  {
   "cell_type": "code",
   "execution_count": 3,
   "id": "be461a70",
   "metadata": {},
   "outputs": [
    {
     "data": {
      "text/plain": [
       "0.8964843749999999"
      ]
     },
     "execution_count": 3,
     "metadata": {},
     "output_type": "execute_result"
    }
   ],
   "source": [
    "binom.pmf(3,5,0.75)+binom.pmf(4,5,0.75)+binom.pmf(5,5,0.75)"
   ]
  },
  {
   "cell_type": "markdown",
   "id": "63ec2046",
   "metadata": {},
   "source": [
    "### A pharmaceutical lab states that a drug causes negative side effects in 3 of every 100 patients. To confirm this affirmation, another laboratory chooses 5 people at random who have consumed the drug. What is the probability of the following events?\n",
    "1.None of the five patients experience side effects.\n",
    "2.At least two experience side effects."
   ]
  },
  {
   "cell_type": "code",
   "execution_count": 4,
   "id": "51e224eb",
   "metadata": {},
   "outputs": [
    {
     "data": {
      "text/plain": [
       "0.8587340256999999"
      ]
     },
     "execution_count": 4,
     "metadata": {},
     "output_type": "execute_result"
    }
   ],
   "source": [
    "binom.pmf(0,5,0.03)"
   ]
  },
  {
   "cell_type": "code",
   "execution_count": 26,
   "id": "a9c17311",
   "metadata": {
    "collapsed": true
   },
   "outputs": [
    {
     "data": {
      "text/plain": [
       "0.008472052800000074"
      ]
     },
     "execution_count": 26,
     "metadata": {},
     "output_type": "execute_result"
    }
   ],
   "source": [
    "1-(binom.pmf(0,5,0.03)+binom.pmf(1,5,0.03))"
   ]
  },
  {
   "cell_type": "markdown",
   "id": "0ac3e48b",
   "metadata": {},
   "source": [
    "### A box of candies has many different colors in it.There is a 15% chance of getting a pink candy.What is the probability that exactly 4 candies in a box are pink out of 10?"
   ]
  },
  {
   "cell_type": "code",
   "execution_count": 27,
   "id": "8ff37cc0",
   "metadata": {},
   "outputs": [
    {
     "data": {
      "text/plain": [
       "0.04009570787988276"
      ]
     },
     "execution_count": 27,
     "metadata": {},
     "output_type": "execute_result"
    }
   ],
   "source": [
    "binom.pmf(4,10,0.15)"
   ]
  },
  {
   "cell_type": "markdown",
   "id": "67624384",
   "metadata": {},
   "source": [
    "### Your basketball team is playing a series of 5 games against your opponent.The winner is those who wins more games (out of 5).Let assume that your team is much more skilled and has 75% chances of winning. It means there is a 25% chance of losing. What is the probability of your team get 3 wins?"
   ]
  },
  {
   "cell_type": "code",
   "execution_count": 28,
   "id": "7dd5185f",
   "metadata": {},
   "outputs": [
    {
     "data": {
      "text/plain": [
       "0.26367187499999983"
      ]
     },
     "execution_count": 28,
     "metadata": {},
     "output_type": "execute_result"
    }
   ],
   "source": [
    "binom.pmf(3,5,0.75)"
   ]
  },
  {
   "cell_type": "markdown",
   "id": "55bbb252",
   "metadata": {},
   "source": [
    "### Let’s say that 80% of all business startups in the IT industry report that they generate a profit in their first year. If a sample of 10 new IT business startups is selected, find the probability that exactly seven will generate a profit in their first year.\n",
    "First, do we satisfy the conditions of the binomial distribution?\n",
    "There are only two possible mutually exclusive outcomes – to generate a profit in the first year or not (yes or no).\n",
    "There are a fixed number of trails (startups) – 10.\n",
    "The IT startups are independent and it is reasonable to assume that this is true.\n",
    "The probability of success for each startup is 0.8"
   ]
  },
  {
   "cell_type": "code",
   "execution_count": 29,
   "id": "d0eaaff7",
   "metadata": {},
   "outputs": [
    {
     "data": {
      "text/plain": [
       "0.20132659199999978"
      ]
     },
     "execution_count": 29,
     "metadata": {},
     "output_type": "execute_result"
    }
   ],
   "source": [
    "binom.pmf(7,10,0.80)"
   ]
  },
  {
   "cell_type": "markdown",
   "id": "e62c3546",
   "metadata": {},
   "source": [
    "### If X is binomially distributed with 6 trials and a probability of success equal to 1/4 at each attempt, what is the probability of:\n",
    " (a) exactly 4 successes \n",
    " (b) at least one success?"
   ]
  },
  {
   "cell_type": "code",
   "execution_count": 32,
   "id": "26e88b3c",
   "metadata": {},
   "outputs": [
    {
     "data": {
      "text/plain": [
       "0.03295898437499997"
      ]
     },
     "execution_count": 32,
     "metadata": {},
     "output_type": "execute_result"
    }
   ],
   "source": [
    "binom.pmf(4,6,0.25)"
   ]
  },
  {
   "cell_type": "code",
   "execution_count": 33,
   "id": "63b36fdd",
   "metadata": {},
   "outputs": [
    {
     "data": {
      "text/plain": [
       "0.177978515625"
      ]
     },
     "execution_count": 33,
     "metadata": {},
     "output_type": "execute_result"
    }
   ],
   "source": [
    "binom.pmf(0,6,0.25)"
   ]
  },
  {
   "cell_type": "markdown",
   "id": "ac25c443",
   "metadata": {},
   "source": [
    "###  There are 10 balls  in a bowl ,  3 of the balls are red and 7 of them are blue. If  drawing a red ball is defined as success and sampling is with replacement, find the probability of getting 5 red balls in 20 trials."
   ]
  },
  {
   "cell_type": "code",
   "execution_count": 5,
   "id": "da18b251",
   "metadata": {
    "collapsed": true
   },
   "outputs": [
    {
     "data": {
      "text/plain": [
       "0.17886305056987964"
      ]
     },
     "execution_count": 5,
     "metadata": {},
     "output_type": "execute_result"
    }
   ],
   "source": [
    "binom.pmf(5,20,0.3)"
   ]
  },
  {
   "cell_type": "markdown",
   "id": "2734c333",
   "metadata": {},
   "source": [
    "### A box of candies has many different colors in it. There is a 15% chance of getting a pink candy. What is the probability that exactly 4 candies in a box are pink out of 10?"
   ]
  },
  {
   "cell_type": "code",
   "execution_count": 35,
   "id": "78a449c3",
   "metadata": {
    "scrolled": true
   },
   "outputs": [
    {
     "data": {
      "text/plain": [
       "0.04009570787988276"
      ]
     },
     "execution_count": 35,
     "metadata": {},
     "output_type": "execute_result"
    }
   ],
   "source": [
    "binom.pmf(4,10,0.15)"
   ]
  },
  {
   "cell_type": "markdown",
   "id": "9aabbf25",
   "metadata": {},
   "source": [
    "### If a coin is tossed 5 times, using binomial distribution find the probability of:         \n",
    "(a)Exactly 2 heads\n",
    "(b) At least 4 heads.\n"
   ]
  },
  {
   "cell_type": "code",
   "execution_count": 4,
   "id": "c58de13b",
   "metadata": {},
   "outputs": [
    {
     "data": {
      "text/plain": [
       "0.3156971489999999"
      ]
     },
     "execution_count": 4,
     "metadata": {},
     "output_type": "execute_result"
    }
   ],
   "source": [
    "binom.pmf(2,5,0.31)"
   ]
  },
  {
   "cell_type": "code",
   "execution_count": null,
   "id": "b3ad9b28",
   "metadata": {},
   "outputs": [],
   "source": []
  }
 ],
 "metadata": {
  "kernelspec": {
   "display_name": "Python 3 (ipykernel)",
   "language": "python",
   "name": "python3"
  },
  "language_info": {
   "codemirror_mode": {
    "name": "ipython",
    "version": 3
   },
   "file_extension": ".py",
   "mimetype": "text/x-python",
   "name": "python",
   "nbconvert_exporter": "python",
   "pygments_lexer": "ipython3",
   "version": "3.9.12"
  }
 },
 "nbformat": 4,
 "nbformat_minor": 5
}
