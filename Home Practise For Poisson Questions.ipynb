{
 "cells": [
  {
   "cell_type": "code",
   "execution_count": 3,
   "id": "19dd9aed",
   "metadata": {},
   "outputs": [],
   "source": [
    "from scipy.stats import binom,poisson,nbinom\n",
    "import matplotlib.pyplot as plt\n",
    "import pandas as pd\n",
    "import numpy as np"
   ]
  },
  {
   "cell_type": "markdown",
   "id": "dc424cf1",
   "metadata": {},
   "source": [
    "### Telephone calls arrive at an average rate of 5 calls every 15 minutes at Slippers All Inclusive reservation desk. What is the probability that less than 3 calls will arrive in any 15 minutes?\n"
   ]
  },
  {
   "cell_type": "code",
   "execution_count": 7,
   "id": "16ec8d98",
   "metadata": {},
   "outputs": [
    {
     "data": {
      "text/plain": [
       "3.930844818448458e-05"
      ]
     },
     "execution_count": 7,
     "metadata": {},
     "output_type": "execute_result"
    }
   ],
   "source": [
    "poisson.pmf(0,15)+poisson.pmf(1,15)+poisson.pmf(2,15) # (x , mean)"
   ]
  },
  {
   "cell_type": "markdown",
   "id": "00b69340",
   "metadata": {},
   "source": [
    "### If 3% of electronic units manufactured by a company are defective. Find the probability that in a sample of 200 units, less than 2 bulbs are defective.\n"
   ]
  },
  {
   "cell_type": "code",
   "execution_count": 12,
   "id": "846834f8",
   "metadata": {
    "collapsed": true
   },
   "outputs": [
    {
     "data": {
      "text/plain": [
       "0.0173512652366645"
      ]
     },
     "execution_count": 12,
     "metadata": {},
     "output_type": "execute_result"
    }
   ],
   "source": [
    "poisson.pmf(0,6)+poisson.pmf(1,6)  # mean = 200*0.03 = 6 and  p = 3/100 = 0.03"
   ]
  },
  {
   "cell_type": "markdown",
   "id": "16f20269",
   "metadata": {},
   "source": [
    "### As only 3 students came to attend the class today, find the probability for exactly 4 students to attend the classes tomorrow.\n"
   ]
  },
  {
   "cell_type": "code",
   "execution_count": 14,
   "id": "0482077e",
   "metadata": {
    "collapsed": true
   },
   "outputs": [
    {
     "data": {
      "text/plain": [
       "0.16803135574154085"
      ]
     },
     "execution_count": 14,
     "metadata": {},
     "output_type": "execute_result"
    }
   ],
   "source": [
    "poisson.pmf(4,3)"
   ]
  },
  {
   "cell_type": "markdown",
   "id": "2399e402",
   "metadata": {},
   "source": [
    "###  In a cafe, the customer arrives at a mean rate of 2 per min. Find the probability of arrival of 5 customers in 1 minute using the Poisson distribution formula."
   ]
  },
  {
   "cell_type": "code",
   "execution_count": 15,
   "id": "94ad4dc7",
   "metadata": {
    "collapsed": true
   },
   "outputs": [
    {
     "data": {
      "text/plain": [
       "0.03608940886309672"
      ]
     },
     "execution_count": 15,
     "metadata": {},
     "output_type": "execute_result"
    }
   ],
   "source": [
    "poisson.pmf(5,2)"
   ]
  },
  {
   "cell_type": "markdown",
   "id": "3d379c5f",
   "metadata": {},
   "source": [
    "### An automobile company has average defects per unit (DPU) 0f 0.3, what is the probability they would find 3 defects in a vehicle? Here we can use Poisson distribution to calculate the probability.\n"
   ]
  },
  {
   "cell_type": "code",
   "execution_count": 16,
   "id": "79cf051c",
   "metadata": {
    "collapsed": true
   },
   "outputs": [
    {
     "data": {
      "text/plain": [
       "0.0033336819930677277"
      ]
     },
     "execution_count": 16,
     "metadata": {},
     "output_type": "execute_result"
    }
   ],
   "source": [
    "poisson.pmf(3,0.3)"
   ]
  },
  {
   "cell_type": "markdown",
   "id": "c1a05b35",
   "metadata": {},
   "source": [
    "### The number of industrial injuries per working week in a particular factory is known  to follow a Poisson distribution with mean 0.5. Find the probability that \n",
    "(a) in a particular week there will be :\n",
    "   (i) less than 2 accidents, \n",
    "   (ii) more than 2 accidents.\n",
    "(b) in a three week period there will be no accidents.\n"
   ]
  },
  {
   "cell_type": "code",
   "execution_count": 17,
   "id": "0ba70acd",
   "metadata": {
    "collapsed": true
   },
   "outputs": [
    {
     "data": {
      "text/plain": [
       "0.9097959895689501"
      ]
     },
     "execution_count": 17,
     "metadata": {},
     "output_type": "execute_result"
    }
   ],
   "source": [
    "poisson.pmf(0,0.5)+poisson.pmf(1,0.5)"
   ]
  },
  {
   "cell_type": "code",
   "execution_count": 18,
   "id": "a6c859e7",
   "metadata": {
    "collapsed": true
   },
   "outputs": [
    {
     "data": {
      "text/plain": [
       "0.01438761577006205"
      ]
     },
     "execution_count": 18,
     "metadata": {},
     "output_type": "execute_result"
    }
   ],
   "source": [
    "poisson.pmf(3,0.5)+poisson.pmf(4,0.5)+poisson.pmf(5,0.5)+poisson.pmf(6,0.5)+poisson.pmf(7,0.5)"
   ]
  },
  {
   "cell_type": "code",
   "execution_count": 22,
   "id": "8a40a495",
   "metadata": {
    "collapsed": true
   },
   "outputs": [
    {
     "data": {
      "text/plain": [
       "0.22313016014842982"
      ]
     },
     "execution_count": 22,
     "metadata": {},
     "output_type": "execute_result"
    }
   ],
   "source": [
    "poisson.pmf(0,1.5)"
   ]
  },
  {
   "cell_type": "markdown",
   "id": "6ef4494e",
   "metadata": {},
   "source": [
    "### A life insurance salesman sells on the average 3 life insurance policies per week. Use Poisson's law to calculate the probability that in a given week he will sell \n",
    "Some policies, \n",
    "2 or more policies but less than 5 policies,\n",
    "Assuming that there are 5 working days per week, what is the probability that in a given day he will sell one policy?"
   ]
  },
  {
   "cell_type": "code",
   "execution_count": 27,
   "id": "1499a483",
   "metadata": {},
   "outputs": [
    {
     "data": {
      "text/plain": [
       "0.950212931632136"
      ]
     },
     "execution_count": 27,
     "metadata": {},
     "output_type": "execute_result"
    }
   ],
   "source": [
    "1 - poisson.pmf(0,3)"
   ]
  },
  {
   "cell_type": "code",
   "execution_count": 23,
   "id": "2893b299",
   "metadata": {},
   "outputs": [
    {
     "data": {
      "text/plain": [
       "0.6161149710523164"
      ]
     },
     "execution_count": 23,
     "metadata": {},
     "output_type": "execute_result"
    }
   ],
   "source": [
    "poisson.pmf(2,3)+poisson.pmf(3,3)+poisson.pmf(4,3)"
   ]
  },
  {
   "cell_type": "code",
   "execution_count": 30,
   "id": "97aee849",
   "metadata": {},
   "outputs": [
    {
     "data": {
      "text/plain": [
       "0.3292869816564159"
      ]
     },
     "execution_count": 30,
     "metadata": {},
     "output_type": "execute_result"
    }
   ],
   "source": [
    "poisson.pmf(1,0.6)    # mean = 3/5"
   ]
  },
  {
   "cell_type": "markdown",
   "id": "6c5eb8ca",
   "metadata": {},
   "source": [
    "### The average number of misprints per page of a book is 1.5.Assuming the distribution of number of misprints to be poisson ,Find\n",
    "1.The probability that a particular book is free from misprints.\n",
    "2.Number of pages containing more than one misprint if the book contains 900 pages..\n"
   ]
  },
  {
   "cell_type": "code",
   "execution_count": null,
   "id": "86767635",
   "metadata": {},
   "outputs": [],
   "source": []
  },
  {
   "cell_type": "markdown",
   "id": "b708c03f",
   "metadata": {},
   "source": [
    "### If the random variable X follows a Poisson distribution with mean 3.4\n",
    "find P (X = 6) ."
   ]
  },
  {
   "cell_type": "code",
   "execution_count": 32,
   "id": "c6ff7453",
   "metadata": {},
   "outputs": [
    {
     "data": {
      "text/plain": [
       "0.07160440945982202"
      ]
     },
     "execution_count": 32,
     "metadata": {},
     "output_type": "execute_result"
    }
   ],
   "source": [
    "poisson.pmf(6,3.4)"
   ]
  },
  {
   "cell_type": "markdown",
   "id": "3ff6d3c4",
   "metadata": {},
   "source": [
    "### A Council is considering whether to base a recovery vehicle on a stretch of road to help clear incidents as quickly as possible. The road concerned carries over 5000 vehicles during the peak rush hour period. Records show that, on average, the number of incidents during the morning rush hour is 5. The Council won’t base a vehicle on the road if the probability of having more than 5 incidents in any one morning is less than 30%. Based on this information should the Council provide a vehicle? "
   ]
  },
  {
   "cell_type": "code",
   "execution_count": 33,
   "id": "e19cf4c6",
   "metadata": {
    "collapsed": true
   },
   "outputs": [
    {
     "data": {
      "text/plain": [
       "0.615960654833063"
      ]
     },
     "execution_count": 33,
     "metadata": {},
     "output_type": "execute_result"
    }
   ],
   "source": [
    "poisson.cdf(5 , 5) # p(x<=5)"
   ]
  },
  {
   "cell_type": "code",
   "execution_count": 36,
   "id": "92978d2c",
   "metadata": {
    "collapsed": true
   },
   "outputs": [
    {
     "data": {
      "text/plain": [
       "0.38403934516693705"
      ]
     },
     "execution_count": 36,
     "metadata": {},
     "output_type": "execute_result"
    }
   ],
   "source": [
    "1 - poisson.cdf(5,5)"
   ]
  },
  {
   "cell_type": "markdown",
   "id": "652b840b",
   "metadata": {},
   "source": [
    "### A customer help center receives on average 3.5 calls every hour.\n",
    "a) What is the probability that it will receive at most 4 calls every hour?\n",
    "b) What is the probability that it will receive at least 5 calls every hour?"
   ]
  },
  {
   "cell_type": "code",
   "execution_count": 44,
   "id": "dbaac7f5",
   "metadata": {},
   "outputs": [
    {
     "data": {
      "text/plain": [
       "0.7254449533096043"
      ]
     },
     "execution_count": 44,
     "metadata": {},
     "output_type": "execute_result"
    }
   ],
   "source": [
    "poisson.cdf(4,3.5)"
   ]
  },
  {
   "cell_type": "code",
   "execution_count": 46,
   "id": "57926663",
   "metadata": {},
   "outputs": [
    {
     "data": {
      "text/plain": [
       "0.27455504669039565"
      ]
     },
     "execution_count": 46,
     "metadata": {},
     "output_type": "execute_result"
    }
   ],
   "source": [
    "1 - poisson.cdf(4,3.5)"
   ]
  },
  {
   "cell_type": "markdown",
   "id": "ca534e45",
   "metadata": {},
   "source": [
    "### An average of 0.61 soldiers died by horse kicks per year in each Prussian army corps. You want to calculate the probability that exactly two soldiers died in the VII Army Corps in 1898, assuming that the number of horse kick deaths per year follows a Poisson distribution."
   ]
  },
  {
   "cell_type": "code",
   "execution_count": 47,
   "id": "d627af95",
   "metadata": {},
   "outputs": [
    {
     "data": {
      "text/plain": [
       "0.10109042919131071"
      ]
     },
     "execution_count": 47,
     "metadata": {},
     "output_type": "execute_result"
    }
   ],
   "source": [
    "poisson.pmf(2,0.61)"
   ]
  },
  {
   "cell_type": "markdown",
   "id": "8ec05c5a",
   "metadata": {},
   "source": [
    "### The mean number of power outages in the city of Brunswick is 4 per year. Find the probability that in a given year,\n",
    "a)there are exactly 3 outages,\n",
    "b)there are more than 3 outages."
   ]
  },
  {
   "cell_type": "code",
   "execution_count": 48,
   "id": "c49db354",
   "metadata": {},
   "outputs": [
    {
     "data": {
      "text/plain": [
       "0.19536681481316454"
      ]
     },
     "execution_count": 48,
     "metadata": {},
     "output_type": "execute_result"
    }
   ],
   "source": [
    "poisson.pmf(3,4)"
   ]
  },
  {
   "cell_type": "code",
   "execution_count": 50,
   "id": "b77e3965",
   "metadata": {},
   "outputs": [
    {
     "data": {
      "text/plain": [
       "0.566529879633291"
      ]
     },
     "execution_count": 50,
     "metadata": {},
     "output_type": "execute_result"
    }
   ],
   "source": [
    "1 - poisson.cdf(3,4)"
   ]
  },
  {
   "cell_type": "markdown",
   "id": "558447df",
   "metadata": {},
   "source": [
    "### A manufacturer knows that the bulb he makes consists of 2% of bulbs as defective.If he makes 200 bulbs then what is the probability that less than 4 bulbs are defective."
   ]
  },
  {
   "cell_type": "code",
   "execution_count": 56,
   "id": "28f9883f",
   "metadata": {},
   "outputs": [
    {
     "data": {
      "text/plain": [
       "0.43347012036670896"
      ]
     },
     "execution_count": 56,
     "metadata": {},
     "output_type": "execute_result"
    }
   ],
   "source": [
    "poisson.cdf(3,4)"
   ]
  }
 ],
 "metadata": {
  "kernelspec": {
   "display_name": "Python 3 (ipykernel)",
   "language": "python",
   "name": "python3"
  },
  "language_info": {
   "codemirror_mode": {
    "name": "ipython",
    "version": 3
   },
   "file_extension": ".py",
   "mimetype": "text/x-python",
   "name": "python",
   "nbconvert_exporter": "python",
   "pygments_lexer": "ipython3",
   "version": "3.9.12"
  }
 },
 "nbformat": 4,
 "nbformat_minor": 5
}
